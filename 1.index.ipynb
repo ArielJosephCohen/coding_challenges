{
 "cells": [
  {
   "cell_type": "code",
   "execution_count": 1,
   "metadata": {},
   "outputs": [],
   "source": [
    "# problem 1"
   ]
  },
  {
   "cell_type": "markdown",
   "metadata": {},
   "source": [
    "\n",
    "Good morning! Here's your coding interview problem for today.\n",
    "\n",
    "This problem was asked by Google.\n",
    "\n",
    "In linear algebra, a Toeplitz matrix is one in which the elements on any given diagonal from top left to bottom right are identical."
   ]
  },
  {
   "cell_type": "code",
   "execution_count": 24,
   "metadata": {},
   "outputs": [
    {
     "data": {
      "text/plain": [
       "True"
      ]
     },
     "execution_count": 24,
     "metadata": {},
     "output_type": "execute_result"
    }
   ],
   "source": [
    "def is_toplatz(mtrx):\n",
    "    \n",
    "    if len(mtrx[0]) != len(mtrx):\n",
    "        return 'not square matrix, try again'\n",
    "    subsets = []\n",
    "    for i in range(len(mtrx[0])):\n",
    "        subsets.append([j[i:] for j in mtrx])\n",
    "    diags = []\n",
    "    for i in range(len(subsets)):\n",
    "        diags.append(subsets[i][i])\n",
    "    return sum([len(set(i)) == 1 for i in diags]) == len(mtrx[0])\n",
    "\n",
    "\n",
    "is_toplatz([[2,2,2],[2,2,2],[2,2,2]])"
   ]
  },
  {
   "cell_type": "code",
   "execution_count": 1,
   "metadata": {},
   "outputs": [],
   "source": [
    "# problem 2"
   ]
  },
  {
   "cell_type": "markdown",
   "metadata": {},
   "source": [
    "String reversaL\n",
    "Given a string: word1, word2, word3 > return word3, word2, word1"
   ]
  },
  {
   "cell_type": "markdown",
   "metadata": {},
   "source": [
    "def string_reversal(input_string):"
   ]
  },
  {
   "cell_type": "code",
   "execution_count": 18,
   "metadata": {},
   "outputs": [
    {
     "data": {
      "text/plain": [
       "['billy', 'up', 'what']"
      ]
     },
     "execution_count": 18,
     "metadata": {},
     "output_type": "execute_result"
    }
   ],
   "source": [
    "def string_reversal(input_string):\n",
    "\n",
    "    return list(input_string.split())[::-1]\n",
    "\n",
    "string_reversal('what up billy')"
   ]
  },
  {
   "cell_type": "code",
   "execution_count": 1,
   "metadata": {},
   "outputs": [],
   "source": [
    "# problem 3"
   ]
  },
  {
   "cell_type": "code",
   "execution_count": 17,
   "metadata": {},
   "outputs": [
    {
     "data": {
      "text/plain": [
       "'fail'"
      ]
     },
     "execution_count": 17,
     "metadata": {},
     "output_type": "execute_result"
    }
   ],
   "source": [
    "def find_kaprekar(start_num,find_num=6174):\n",
    "\n",
    "    count = 0\n",
    "    num_change = start_num\n",
    "    while num_change != find_num:\n",
    "        num1 = num_change\n",
    "        num2 = ''.join(list(str(num1)[::-1]))\n",
    "        num_change = abs(int(num1)-int(num2))\n",
    "        count += 1\n",
    "        if num_change == 0:\n",
    "            return 'fail'\n",
    "    return count\n",
    "\n",
    "find_kaprekar(3567)"
   ]
  },
  {
   "cell_type": "code",
   "execution_count": 1,
   "metadata": {},
   "outputs": [],
   "source": [
    "# problem 4"
   ]
  },
  {
   "cell_type": "markdown",
   "metadata": {},
   "source": [
    "Longest consecutive sequence - given a list of numbers return the longest consecutive sublist.\n",
    "Example: [1,4,200,54,2,3,18] returns [1,2,3,4]"
   ]
  },
  {
   "cell_type": "code",
   "execution_count": 16,
   "metadata": {},
   "outputs": [
    {
     "data": {
      "text/plain": [
       "5"
      ]
     },
     "execution_count": 16,
     "metadata": {},
     "output_type": "execute_result"
    }
   ],
   "source": [
    "def consecutive_substr(num_lst):\n",
    "\n",
    "    new_lst = sorted(num_lst)\n",
    "    counter = 1\n",
    "    new_counter = 1\n",
    "    for i in range(len(new_lst)-1):\n",
    "        if new_lst[i+1] == new_lst[i]+1:\n",
    "            counter += 1\n",
    "            if counter >= new_counter:\n",
    "                new_counter = counter\n",
    "        else:\n",
    "            counter = 1\n",
    "    \n",
    "    return new_counter\n",
    "\n",
    "\n",
    "consecutive_substr([1,31,2,4,35,3,34,33,32])"
   ]
  },
  {
   "cell_type": "code",
   "execution_count": 1,
   "metadata": {},
   "outputs": [],
   "source": [
    "# problem 5"
   ]
  },
  {
   "cell_type": "markdown",
   "metadata": {},
   "source": [
    "Given two rectangles on a 2D graph, return the area of their intersection. If the rectangles don't intersect, return 0.\n",
    "\n",
    "For example, given the following rectangles:\n",
    "\n",
    "Input is top left vertex and dimensions:\n",
    "Like : top_left (2,3) and dimensions (4,3)"
   ]
  },
  {
   "cell_type": "code",
   "execution_count": 18,
   "metadata": {},
   "outputs": [
    {
     "data": {
      "text/plain": [
       "4"
      ]
     },
     "execution_count": 18,
     "metadata": {},
     "output_type": "execute_result"
    }
   ],
   "source": [
    "def intersect_rect_area(v1,d1,v2,d2):\n",
    "\n",
    "    r1_len = range(v1[0],v1[0]+d1[0])\n",
    "    r1_hght = range(v1[1],v1[1]+d1[1])\n",
    "    r2_len = range(v2[0],v2[0]+d2[0])\n",
    "    r2_hght = range(v2[1],v2[1]+d2[1])\n",
    "\n",
    "    hghs = [i for i in list(r1_hght) if i in r2_hght]\n",
    "    lens = [i for i in list(r1_len) if i in r2_len]\n",
    "\n",
    "    return len(hghs)*len(lens)\n",
    "\n",
    "\n",
    "intersect_rect_area((1,1),(3,3),(1,1),(2,2))"
   ]
  },
  {
   "cell_type": "code",
   "execution_count": 1,
   "metadata": {},
   "outputs": [],
   "source": [
    "# problem 6"
   ]
  },
  {
   "cell_type": "code",
   "execution_count": 8,
   "metadata": {},
   "outputs": [
    {
     "data": {
      "text/plain": [
       "8"
      ]
     },
     "execution_count": 8,
     "metadata": {},
     "output_type": "execute_result"
    }
   ],
   "source": [
    "def sqrt_real_num(num):\n",
    "\n",
    "    for i in range(1,int(num/2)+1):\n",
    "        if num/i == i:\n",
    "            return i\n",
    "    return 'none'\n",
    "        \n",
    "sqrt_real_num(64)"
   ]
  },
  {
   "cell_type": "code",
   "execution_count": 22,
   "metadata": {},
   "outputs": [],
   "source": [
    "# problem 7"
   ]
  },
  {
   "cell_type": "markdown",
   "metadata": {},
   "source": [
    "Predict if a word exists on a boggle board"
   ]
  },
  {
   "cell_type": "code",
   "execution_count": null,
   "metadata": {},
   "outputs": [],
   "source": [
    "# INCOMPLETE"
   ]
  },
  {
   "cell_type": "code",
   "execution_count": 29,
   "metadata": {},
   "outputs": [],
   "source": [
    "def boggle_word(mtrx,word):\n",
    "\n",
    "    for i in range(len(mtrx)):\n",
    "        for j in range(len(mtrx[i])):\n",
    "            if mtrx[i][j] == word[0]:\n",
    "                index = [i,j]\n",
    "                break\n",
    "    i = i\n",
    "    j = j\n",
    "    kept_indicies = [i,j]\n",
    "    cur_word = word[0]\n",
    "    word_pos = 1\n",
    "    counter = 1\n",
    "    while cur_word != word:\n",
    "        index_tries = [[i+1,j],[i,j+1],[i-1,j],[i,j-1]]\n",
    "        if counter > len(word)+2:\n",
    "            return False\n",
    "        elif counter == len(word) and ''.join(cur_word) == word:\n",
    "            return True\n",
    "        for indx in index_tries:\n",
    "            try:\n",
    "                if index[indx[0]][indx[1]] == word[word_pos] and index[indx[0]][indx[1]] not in kept_indicies:\n",
    "                    cur_word += mtrx[indx]\n",
    "                    kept_indicies.append(indx)\n",
    "            except:\n",
    "                continue\n",
    "        counter +=1           "
   ]
  },
  {
   "cell_type": "code",
   "execution_count": 1,
   "metadata": {},
   "outputs": [],
   "source": [
    "# problem 8"
   ]
  },
  {
   "cell_type": "markdown",
   "metadata": {},
   "source": [
    "This problem was asked by Dropbox.\n",
    "\n",
    "Given an undirected graph G, check whether it is bipartite. Recall that a graph is bipartite if its vertices can be divided into two independent sets, U and V, such that no edge connects vertices of the same set."
   ]
  },
  {
   "cell_type": "code",
   "execution_count": 9,
   "metadata": {},
   "outputs": [
    {
     "data": {
      "text/plain": [
       "True"
      ]
     },
     "execution_count": 9,
     "metadata": {},
     "output_type": "execute_result"
    }
   ],
   "source": [
    "import networkx as nx\n",
    "g1 = nx.Graph()\n",
    "g1.add_nodes_from([('a','b')])\n",
    "nx.is_bipartite(g1)"
   ]
  },
  {
   "cell_type": "code",
   "execution_count": 1,
   "metadata": {},
   "outputs": [],
   "source": [
    "# problem 9"
   ]
  },
  {
   "cell_type": "markdown",
   "metadata": {},
   "source": [
    "Suppose you have a multiplication table that is N by N. That is, a 2D array where the value at the i-th row and j-th column is (i + 1) * (j + 1) (if 0-indexed) or i * j (if 1-indexed).\n",
    "\n",
    "Given integers N and X, write a function that returns the number of times X appears as a value in an N by N multiplication table.\n",
    "\n",
    "For example, given N = 6 and X = 12, you should return 4, since the multiplication table looks like this:\n",
    "\n",
    "| 1 | 2 | 3 | 4 | 5 | 6 |\n",
    "\n",
    "| 2 | 4 | 6 | 8 | 10 | 12 |\n",
    "\n",
    "| 3 | 6 | 9 | 12 | 15 | 18 |\n",
    "\n",
    "| 4 | 8 | 12 | 16 | 20 | 24 |\n",
    "\n",
    "| 5 | 10 | 15 | 20 | 25 | 30 |\n",
    "\n",
    "| 6 | 12 | 18 | 24 | 30 | 36 |\n",
    "\n",
    "And there are 4 12's in the table."
   ]
  },
  {
   "cell_type": "code",
   "execution_count": 78,
   "metadata": {},
   "outputs": [
    {
     "data": {
      "text/plain": [
       "2"
      ]
     },
     "execution_count": 78,
     "metadata": {},
     "output_type": "execute_result"
    }
   ],
   "source": [
    "def mul_table_aprncs(n,x):\n",
    "\n",
    "    nums = list(range(1,n+1))\n",
    "    nums2 = nums\n",
    "    for i in list(range(2,n+1)):\n",
    "        nums.append([n*i for n in nums2])\n",
    "        nums2 = list(range(1,n+1))\n",
    "    total = sorted([i+i for i in nums][-1])\n",
    "    return len([i for i in total if i == x])\n",
    "\n",
    "mul_table_aprncs(3,3)"
   ]
  },
  {
   "cell_type": "code",
   "execution_count": 79,
   "metadata": {},
   "outputs": [],
   "source": [
    "# problem 10"
   ]
  },
  {
   "cell_type": "markdown",
   "metadata": {},
   "source": [
    "Given the mapping a = 1, b = 2, ... z = 26, and an encoded message, count the number of ways it can be decoded.\n",
    "\n",
    "For example, the message '111' would give 3, since it could be decoded as 'aaa', 'ka', and 'ak'.\n",
    "\n",
    "You can assume that the messages are decodable. For example, '001' is not allowed."
   ]
  },
  {
   "cell_type": "code",
   "execution_count": 24,
   "metadata": {},
   "outputs": [],
   "source": [
    "import string\n",
    "import itertools"
   ]
  },
  {
   "cell_type": "code",
   "execution_count": 118,
   "metadata": {},
   "outputs": [],
   "source": [
    "letters = list(string.ascii_lowercase)\n",
    "def message_encoder(wrd):\n",
    "\n",
    "    alpha_dict = dict(enumerate(letters))\n",
    "    alpha_dict2 = dict([(l[1],l[0]+1) for l in alpha_dict.items()])\n",
    "    lw = list(wrd)\n",
    "\n",
    "    ides = []\n",
    "    for j in range(len(lw)):\n",
    "        i = len(lw)\n",
    "        while i != 0:\n",
    "            ides.append(lw[j:i])\n",
    "            i -= 1\n",
    "        ides = (sorted(list(ides)))\n",
    "\n",
    "    return ides"
   ]
  },
  {
   "cell_type": "code",
   "execution_count": 119,
   "metadata": {},
   "outputs": [
    {
     "data": {
      "text/plain": [
       "[[], [], [], ['b'], ['b'], ['b', 'o'], ['b', 'o', 'b'], ['o'], ['o', 'b']]"
      ]
     },
     "execution_count": 119,
     "metadata": {},
     "output_type": "execute_result"
    }
   ],
   "source": [
    "message_encoder('bob')"
   ]
  },
  {
   "cell_type": "code",
   "execution_count": 1,
   "metadata": {},
   "outputs": [],
   "source": [
    "# problem 11"
   ]
  },
  {
   "cell_type": "markdown",
   "metadata": {},
   "source": [
    "Given a positive integer n, find the smallest number of squared integers which sum to n.\n",
    "\n",
    "For example, given n = 13, return 2 since 13 = 3^2 + 2^2 = 9 + 4.\n",
    "\n",
    "Given n = 27, return 3 since 27 = 3^2 + 3^2 + 3^2 = 9 + 9 + 9."
   ]
  },
  {
   "cell_type": "code",
   "execution_count": 82,
   "metadata": {},
   "outputs": [
    {
     "data": {
      "text/plain": [
       "2"
      ]
     },
     "execution_count": 82,
     "metadata": {},
     "output_type": "execute_result"
    }
   ],
   "source": [
    "import numpy as np\n",
    "import itertools\n",
    "def nums_sqaure_int_sum(num,max_com):\n",
    "\n",
    "    if num == 3:\n",
    "        return 3\n",
    "    high = int(np.ceil(np.sqrt(num)))\n",
    "    rng = np.array(list(range(1,high+1)))\n",
    "    rng_sqr = list(np.square(rng))\n",
    "    rng_sqr = sorted(rng_sqr)*high\n",
    "    ends = []\n",
    "    for num1 in list(range(1,max_com+1)):\n",
    "        for combo in list(itertools.combinations(rng_sqr,num1)):\n",
    "            if sum(combo) == num:\n",
    "                ends.append(len(combo))\n",
    "\n",
    "    return min(ends)\n",
    "\n",
    "nums_sqaure_int_sum(13,4)"
   ]
  },
  {
   "cell_type": "code",
   "execution_count": 1,
   "metadata": {},
   "outputs": [],
   "source": [
    "# problem 12"
   ]
  },
  {
   "cell_type": "markdown",
   "metadata": {},
   "source": [
    "On our special chessboard, two bishops attack each other if they share the same diagonal. This includes bishops that have another bishop located between them, i.e. bishops can attack through pieces.\n",
    "\n",
    "You are given N bishops, represented as (row, column) tuples on a M by M chessboard. Write a function to count the number of pairs of bishops that attack each other. The ordering of the pair doesn't matter: (1, 2) is considered the same as (2, 1).\n",
    "\n",
    "For example, given M = 5 and the list of bishops:\n",
    "\n",
    "(0, 0)\n",
    "(1, 2)\n",
    "(2, 2)\n",
    "(4, 0)\n",
    "The board would look like this:\n",
    "\n",
    "[b 0 0 0 0]\n",
    "\n",
    "[0 0 b 0 0]\n",
    "\n",
    "[0 0 b 0 0]\n",
    "\n",
    "[0 0 0 0 0]\n",
    "\n",
    "[b 0 0 0 0]\n",
    "\n",
    "You should return 2, since bishops 1 and 3 attack each other, as well as bishops 3 and 4."
   ]
  },
  {
   "cell_type": "code",
   "execution_count": 146,
   "metadata": {},
   "outputs": [],
   "source": [
    "def count_bishop_attacks(m,bishop_pos):\n",
    "    \n",
    "    attacks = {}\n",
    "    full_diags = {}\n",
    "    for p in bishop_pos:\n",
    "        pos1 = np.array(p)\n",
    "        diags = []\n",
    "        for i in range(0,m):\n",
    "            diags.append(((pos1[0]+i,pos1[1]-i),(pos1[0]+i,pos1[1]+i),(pos1[0]-i,pos1[1]-i),(pos1[0]-i,pos1[1]+i)))\n",
    "        full_diags[p] = [[i for i in diags[j] if i[0]>=0 and i[1]>=0] for j in range(len(diags))]\n",
    "    for k,v in full_diags.items():\n",
    "        for p in itertools.combinations(bishop_pos,2):\n",
    "            if p[0] in v and p[1] in v:\n",
    "                attacks[k] = [p[0],p[1]]\n",
    "\n",
    "    return attacks"
   ]
  },
  {
   "cell_type": "code",
   "execution_count": 1,
   "metadata": {},
   "outputs": [],
   "source": [
    "# problem 13"
   ]
  },
  {
   "cell_type": "markdown",
   "metadata": {},
   "source": [
    "A number is considered perfect if its digits sum up to exactly 10.\n",
    "\n",
    "Given a positive integer n, return the n-th perfect number.\n",
    "\n",
    "For example, given 1, you should return 19. Given 2, you should return 28."
   ]
  },
  {
   "cell_type": "code",
   "execution_count": 46,
   "metadata": {},
   "outputs": [
    {
     "data": {
      "text/plain": [
       "1423"
      ]
     },
     "execution_count": 46,
     "metadata": {},
     "output_type": "execute_result"
    }
   ],
   "source": [
    "def nth_pos_int(n,i=1,counter=0):\n",
    "\n",
    "    while counter < n:\n",
    "        l = [int(j) for j in list(str(i))]\n",
    "        if sum(l) == 10:\n",
    "            counter += 1\n",
    "        i += 1\n",
    "    \n",
    "    return i-1\n",
    "\n",
    "nth_pos_int(100)"
   ]
  },
  {
   "cell_type": "code",
   "execution_count": 1,
   "metadata": {},
   "outputs": [],
   "source": [
    "# problem 14"
   ]
  },
  {
   "cell_type": "markdown",
   "metadata": {},
   "source": [
    "The power set of a set is the set of all its subsets. Write a function that, given a set, generates its power set.\n",
    "\n",
    "For example, given the set {1, 2, 3}, it should return {{}, {1}, {2}, {3}, {1, 2}, {1, 3}, {2, 3}, {1, 2, 3}}.\n",
    "\n",
    "You may also use a list or array to represent a set.\n",
    "\n"
   ]
  },
  {
   "cell_type": "code",
   "execution_count": 7,
   "metadata": {},
   "outputs": [],
   "source": [
    "def power_set(nums):\n",
    "\n",
    "    pwst = []\n",
    "    import itertools\n",
    "    for i in range(len(nums)+1):\n",
    "        pwst.append(list(itertools.combinations(nums,i)))\n",
    "\n",
    "    return pwst"
   ]
  },
  {
   "cell_type": "code",
   "execution_count": 1,
   "metadata": {},
   "outputs": [],
   "source": [
    "# problem 15"
   ]
  },
  {
   "cell_type": "markdown",
   "metadata": {},
   "source": [
    "Given a string and a number of lines k, print the string in zigzag form. In zigzag, characters are printed out diagonally from top left to bottom right until reaching the kth line, then back up to top right, and so on.\n",
    "\n",
    "For example, given the sentence \"thisisazigzag\" and k = 4, you should print:"
   ]
  },
  {
   "cell_type": "code",
   "execution_count": 32,
   "metadata": {},
   "outputs": [
    {
     "data": {
      "text/plain": [
       "['this', 'sisa', 'azig', 'gzag']"
      ]
     },
     "execution_count": 32,
     "metadata": {},
     "output_type": "execute_result"
    }
   ],
   "source": [
    "def zigzag(wrd,k,i=0):\n",
    "\n",
    "    start_nums = list(range(len(wrd)))\n",
    "    indicies = [max(i*k-i,0) for i in start_nums]\n",
    "    wrds = [wrd[i:i+k] for i in indicies]\n",
    "    wrds = [i for i in wrds if len(i)==k]\n",
    "\n",
    "    return wrds\n",
    "\n",
    "zigzag('thisisazigzag',4)"
   ]
  },
  {
   "cell_type": "code",
   "execution_count": 1,
   "metadata": {},
   "outputs": [],
   "source": [
    "# problem 16"
   ]
  },
  {
   "cell_type": "markdown",
   "metadata": {},
   "source": [
    "Given a array of numbers representing the stock prices of a company in chronological order, write a function that calculates the maximum profit you could have made from buying and selling that stock once. You must buy before you can sell it.\n",
    "\n",
    "For example, given [9, 11, 8, 5, 7, 10], you should return 5, since you could buy the stock at 5 dollars and sell it at 10 dollars.\n",
    "\n",
    "We will be sending the solution tomorrow, along with tomorrow's question. As always, feel free to shoot us an email if there's anything we can help with."
   ]
  },
  {
   "cell_type": "code",
   "execution_count": 7,
   "metadata": {},
   "outputs": [
    {
     "data": {
      "text/plain": [
       "5"
      ]
     },
     "execution_count": 7,
     "metadata": {},
     "output_type": "execute_result"
    }
   ],
   "source": [
    "def stock_sell(nums,ret=0):\n",
    "\n",
    "    for i in range(len(nums)):\n",
    "        new_nums = nums[i:]\n",
    "        if max(new_nums) - new_nums[0] > ret:\n",
    "            ret = max(new_nums) - new_nums[0]\n",
    "\n",
    "    return ret\n",
    "\n",
    "stock_sell([9, 11, 8, 5, 7, 10])"
   ]
  },
  {
   "cell_type": "code",
   "execution_count": 1,
   "metadata": {},
   "outputs": [],
   "source": [
    "# problem 17"
   ]
  },
  {
   "cell_type": "markdown",
   "metadata": {},
   "source": [
    "Given a positive integer N, find the smallest number of steps it will take to reach 1.\n",
    "\n",
    "There are two kinds of permitted steps:\n",
    "\n",
    "You may decrement N to N - 1.\n",
    "If a * b = N, you may decrement N to the larger of a and b.\n",
    "For example, given 100, you can reach 1 in five steps with the following route: 100 -> 10 -> 9 -> 3 -> 2 -> 1."
   ]
  },
  {
   "cell_type": "code",
   "execution_count": 71,
   "metadata": {},
   "outputs": [],
   "source": [
    "def find_factors(num):\n",
    "        return [i for i in list(range(1,int(num/2)+1))[::-1] if num%i == 0]"
   ]
  },
  {
   "cell_type": "code",
   "execution_count": 78,
   "metadata": {},
   "outputs": [],
   "source": [
    "def steps_to_one(num):\n",
    "\n",
    "    counter = 0\n",
    "    while num > 1:\n",
    "        factors = find_factors(num)\n",
    "        if len(factors) % 2 == 0:\n",
    "            mid_factor = factors[int(len(factors)/2)-1]\n",
    "        else:\n",
    "            mid_factor = factors[int(len(factors)/2)]\n",
    "        if mid_factor != 1:\n",
    "            num = num/mid_factor\n",
    "        else:\n",
    "            num = num - 1 \n",
    "        counter += 1\n",
    "\n",
    "    return counter"
   ]
  }
 ],
 "metadata": {
  "kernelspec": {
   "display_name": "Python 3",
   "language": "python",
   "name": "python3"
  },
  "language_info": {
   "codemirror_mode": {
    "name": "ipython",
    "version": 3
   },
   "file_extension": ".py",
   "mimetype": "text/x-python",
   "name": "python",
   "nbconvert_exporter": "python",
   "pygments_lexer": "ipython3",
   "version": "3.11.3"
  }
 },
 "nbformat": 4,
 "nbformat_minor": 4
}
