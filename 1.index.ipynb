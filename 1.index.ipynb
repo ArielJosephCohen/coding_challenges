{
 "cells": [
  {
   "cell_type": "code",
   "execution_count": 1,
   "metadata": {},
   "outputs": [],
   "source": [
    "# problem 1"
   ]
  },
  {
   "cell_type": "markdown",
   "metadata": {},
   "source": [
    "\n",
    "Good morning! Here's your coding interview problem for today.\n",
    "\n",
    "This problem was asked by Google.\n",
    "\n",
    "In linear algebra, a Toeplitz matrix is one in which the elements on any given diagonal from top left to bottom right are identical."
   ]
  },
  {
   "cell_type": "code",
   "execution_count": 24,
   "metadata": {},
   "outputs": [
    {
     "data": {
      "text/plain": [
       "True"
      ]
     },
     "execution_count": 24,
     "metadata": {},
     "output_type": "execute_result"
    }
   ],
   "source": [
    "def is_toplatz(mtrx):\n",
    "    \n",
    "    if len(mtrx[0]) != len(mtrx):\n",
    "        return 'not square matrix, try again'\n",
    "    subsets = []\n",
    "    for i in range(len(mtrx[0])):\n",
    "        subsets.append([j[i:] for j in mtrx])\n",
    "    diags = []\n",
    "    for i in range(len(subsets)):\n",
    "        diags.append(subsets[i][i])\n",
    "    return sum([len(set(i)) == 1 for i in diags]) == len(mtrx[0])\n",
    "\n",
    "\n",
    "is_toplatz([[2,2,2],[2,2,2],[2,2,2]])"
   ]
  },
  {
   "cell_type": "code",
   "execution_count": 1,
   "metadata": {},
   "outputs": [],
   "source": [
    "# problem 2"
   ]
  },
  {
   "cell_type": "markdown",
   "metadata": {},
   "source": [
    "String reversaL\n",
    "Given a string: word1, word2, word3 > return word3, word2, word1"
   ]
  },
  {
   "cell_type": "markdown",
   "metadata": {},
   "source": [
    "def string_reversal(input_string):"
   ]
  },
  {
   "cell_type": "code",
   "execution_count": 18,
   "metadata": {},
   "outputs": [
    {
     "data": {
      "text/plain": [
       "['billy', 'up', 'what']"
      ]
     },
     "execution_count": 18,
     "metadata": {},
     "output_type": "execute_result"
    }
   ],
   "source": [
    "def string_reversal(input_string):\n",
    "\n",
    "    return list(input_string.split())[::-1]\n",
    "\n",
    "string_reversal('what up billy')"
   ]
  },
  {
   "cell_type": "code",
   "execution_count": 1,
   "metadata": {},
   "outputs": [],
   "source": [
    "# problem 3"
   ]
  },
  {
   "cell_type": "code",
   "execution_count": 17,
   "metadata": {},
   "outputs": [
    {
     "data": {
      "text/plain": [
       "'fail'"
      ]
     },
     "execution_count": 17,
     "metadata": {},
     "output_type": "execute_result"
    }
   ],
   "source": [
    "def find_kaprekar(start_num,find_num=6174):\n",
    "\n",
    "    count = 0\n",
    "    num_change = start_num\n",
    "    while num_change != find_num:\n",
    "        num1 = num_change\n",
    "        num2 = ''.join(list(str(num1)[::-1]))\n",
    "        num_change = abs(int(num1)-int(num2))\n",
    "        count += 1\n",
    "        if num_change == 0:\n",
    "            return 'fail'\n",
    "    return count\n",
    "\n",
    "find_kaprekar(3567)"
   ]
  },
  {
   "cell_type": "code",
   "execution_count": 1,
   "metadata": {},
   "outputs": [],
   "source": [
    "# problem 4"
   ]
  },
  {
   "cell_type": "markdown",
   "metadata": {},
   "source": [
    "Longest consecutive sequence - given a list of numbers return the longest consecutive sublist.\n",
    "Example: [1,4,200,54,2,3,18] returns [1,2,3,4]"
   ]
  },
  {
   "cell_type": "code",
   "execution_count": 16,
   "metadata": {},
   "outputs": [
    {
     "data": {
      "text/plain": [
       "5"
      ]
     },
     "execution_count": 16,
     "metadata": {},
     "output_type": "execute_result"
    }
   ],
   "source": [
    "def consecutive_substr(num_lst):\n",
    "\n",
    "    new_lst = sorted(num_lst)\n",
    "    counter = 1\n",
    "    new_counter = 1\n",
    "    for i in range(len(new_lst)-1):\n",
    "        if new_lst[i+1] == new_lst[i]+1:\n",
    "            counter += 1\n",
    "            if counter >= new_counter:\n",
    "                new_counter = counter\n",
    "        else:\n",
    "            counter = 1\n",
    "    \n",
    "    return new_counter\n",
    "\n",
    "\n",
    "consecutive_substr([1,31,2,4,35,3,34,33,32])"
   ]
  },
  {
   "cell_type": "code",
   "execution_count": 1,
   "metadata": {},
   "outputs": [],
   "source": [
    "# problem 5"
   ]
  },
  {
   "cell_type": "markdown",
   "metadata": {},
   "source": [
    "Given two rectangles on a 2D graph, return the area of their intersection. If the rectangles don't intersect, return 0.\n",
    "\n",
    "For example, given the following rectangles:\n",
    "\n",
    "Input is top left vertex and dimensions:\n",
    "Like : top_left (2,3) and dimensions (4,3)"
   ]
  },
  {
   "cell_type": "code",
   "execution_count": 18,
   "metadata": {},
   "outputs": [
    {
     "data": {
      "text/plain": [
       "4"
      ]
     },
     "execution_count": 18,
     "metadata": {},
     "output_type": "execute_result"
    }
   ],
   "source": [
    "def intersect_rect_area(v1,d1,v2,d2):\n",
    "\n",
    "    r1_len = range(v1[0],v1[0]+d1[0])\n",
    "    r1_hght = range(v1[1],v1[1]+d1[1])\n",
    "    r2_len = range(v2[0],v2[0]+d2[0])\n",
    "    r2_hght = range(v2[1],v2[1]+d2[1])\n",
    "\n",
    "    hghs = [i for i in list(r1_hght) if i in r2_hght]\n",
    "    lens = [i for i in list(r1_len) if i in r2_len]\n",
    "\n",
    "    return len(hghs)*len(lens)\n",
    "\n",
    "\n",
    "intersect_rect_area((1,1),(3,3),(1,1),(2,2))"
   ]
  },
  {
   "cell_type": "code",
   "execution_count": 1,
   "metadata": {},
   "outputs": [],
   "source": [
    "# problem 6"
   ]
  },
  {
   "cell_type": "code",
   "execution_count": 8,
   "metadata": {},
   "outputs": [
    {
     "data": {
      "text/plain": [
       "8"
      ]
     },
     "execution_count": 8,
     "metadata": {},
     "output_type": "execute_result"
    }
   ],
   "source": [
    "def sqrt_real_num(num):\n",
    "\n",
    "    for i in range(1,int(num/2)+1):\n",
    "        if num/i == i:\n",
    "            return i\n",
    "    return 'none'\n",
    "        \n",
    "sqrt_real_num(64)"
   ]
  },
  {
   "cell_type": "code",
   "execution_count": 22,
   "metadata": {},
   "outputs": [],
   "source": [
    "# problem 7"
   ]
  },
  {
   "cell_type": "markdown",
   "metadata": {},
   "source": [
    "Predict if a word exists on a boggle board"
   ]
  },
  {
   "cell_type": "code",
   "execution_count": null,
   "metadata": {},
   "outputs": [],
   "source": [
    "# INCOMPLETE"
   ]
  },
  {
   "cell_type": "code",
   "execution_count": 29,
   "metadata": {},
   "outputs": [],
   "source": [
    "def boggle_word(mtrx,word):\n",
    "\n",
    "    for i in range(len(mtrx)):\n",
    "        for j in range(len(mtrx[i])):\n",
    "            if mtrx[i][j] == word[0]:\n",
    "                index = [i,j]\n",
    "                break\n",
    "    i = i\n",
    "    j = j\n",
    "    kept_indicies = [i,j]\n",
    "    cur_word = word[0]\n",
    "    word_pos = 1\n",
    "    counter = 1\n",
    "    while cur_word != word:\n",
    "        index_tries = [[i+1,j],[i,j+1],[i-1,j],[i,j-1]]\n",
    "        if counter > len(word)+2:\n",
    "            return False\n",
    "        elif counter == len(word) and ''.join(cur_word) == word:\n",
    "            return True\n",
    "        for indx in index_tries:\n",
    "            try:\n",
    "                if index[indx[0]][indx[1]] == word[word_pos] and index[indx[0]][indx[1]] not in kept_indicies:\n",
    "                    cur_word += mtrx[indx]\n",
    "                    kept_indicies.append(indx)\n",
    "            except:\n",
    "                continue\n",
    "        counter +=1           "
   ]
  },
  {
   "cell_type": "code",
   "execution_count": 1,
   "metadata": {},
   "outputs": [],
   "source": [
    "# problem 8"
   ]
  },
  {
   "cell_type": "markdown",
   "metadata": {},
   "source": [
    "This problem was asked by Dropbox.\n",
    "\n",
    "Given an undirected graph G, check whether it is bipartite. Recall that a graph is bipartite if its vertices can be divided into two independent sets, U and V, such that no edge connects vertices of the same set."
   ]
  },
  {
   "cell_type": "code",
   "execution_count": 9,
   "metadata": {},
   "outputs": [
    {
     "data": {
      "text/plain": [
       "True"
      ]
     },
     "execution_count": 9,
     "metadata": {},
     "output_type": "execute_result"
    }
   ],
   "source": [
    "import networkx as nx\n",
    "g1 = nx.Graph()\n",
    "g1.add_nodes_from([('a','b')])\n",
    "nx.is_bipartite(g1)"
   ]
  }
 ],
 "metadata": {
  "kernelspec": {
   "display_name": "Python 3",
   "language": "python",
   "name": "python3"
  },
  "language_info": {
   "codemirror_mode": {
    "name": "ipython",
    "version": 3
   },
   "file_extension": ".py",
   "mimetype": "text/x-python",
   "name": "python",
   "nbconvert_exporter": "python",
   "pygments_lexer": "ipython3",
   "version": "3.11.3"
  }
 },
 "nbformat": 4,
 "nbformat_minor": 4
}
